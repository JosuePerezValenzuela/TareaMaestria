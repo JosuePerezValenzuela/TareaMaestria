{
  "nbformat": 4,
  "nbformat_minor": 0,
  "metadata": {
    "colab": {
      "provenance": [],
      "mount_file_id": "1ZsznTn3oeS3QOapR4Qbb-1TWm1LMmWyt",
      "authorship_tag": "ABX9TyNPEK4BZ/jCIhGeUWlse5he",
      "include_colab_link": true
    },
    "kernelspec": {
      "name": "python3",
      "display_name": "Python 3"
    },
    "language_info": {
      "name": "python"
    }
  },
  "cells": [
    {
      "cell_type": "markdown",
      "metadata": {
        "id": "view-in-github",
        "colab_type": "text"
      },
      "source": [
        "<a href=\"https://colab.research.google.com/github/JosuePerezValenzuela/TareaMaestria/blob/master/Untitled6.ipynb\" target=\"_parent\"><img src=\"https://colab.research.google.com/assets/colab-badge.svg\" alt=\"Open In Colab\"/></a>"
      ]
    },
    {
      "cell_type": "code",
      "source": [
        "#Importaciones\n",
        "import pandas as pd\n",
        "import numpy as np"
      ],
      "metadata": {
        "id": "qMK0-hv0K41X"
      },
      "execution_count": null,
      "outputs": []
    },
    {
      "cell_type": "code",
      "execution_count": null,
      "metadata": {
        "id": "KMz_wz_WHF0s",
        "colab": {
          "base_uri": "https://localhost:8080/",
          "height": 206
        },
        "outputId": "23e4d57f-ae0e-4556-f6de-3c91be8724f2"
      },
      "outputs": [
        {
          "output_type": "execute_result",
          "data": {
            "text/plain": [
              "    Id Departamento  Enero  Febrero  Marzo  Abril\n",
              "0  OP1  Proveedores    180    160.0  140.0  180.0\n",
              "1  OP2       Ventas    120    140.0    NaN  100.0\n",
              "2  OP3       Ventas     80     90.0   80.0   80.0\n",
              "3  OP5           IT    180    170.0  180.0  180.0\n",
              "4  OP6    Marketing    100      NaN  100.0    NaN"
            ],
            "text/html": [
              "\n",
              "  <div id=\"df-f808546b-8eec-4a0c-a062-01668f613380\" class=\"colab-df-container\">\n",
              "    <div>\n",
              "<style scoped>\n",
              "    .dataframe tbody tr th:only-of-type {\n",
              "        vertical-align: middle;\n",
              "    }\n",
              "\n",
              "    .dataframe tbody tr th {\n",
              "        vertical-align: top;\n",
              "    }\n",
              "\n",
              "    .dataframe thead th {\n",
              "        text-align: right;\n",
              "    }\n",
              "</style>\n",
              "<table border=\"1\" class=\"dataframe\">\n",
              "  <thead>\n",
              "    <tr style=\"text-align: right;\">\n",
              "      <th></th>\n",
              "      <th>Id</th>\n",
              "      <th>Departamento</th>\n",
              "      <th>Enero</th>\n",
              "      <th>Febrero</th>\n",
              "      <th>Marzo</th>\n",
              "      <th>Abril</th>\n",
              "    </tr>\n",
              "  </thead>\n",
              "  <tbody>\n",
              "    <tr>\n",
              "      <th>0</th>\n",
              "      <td>OP1</td>\n",
              "      <td>Proveedores</td>\n",
              "      <td>180</td>\n",
              "      <td>160.0</td>\n",
              "      <td>140.0</td>\n",
              "      <td>180.0</td>\n",
              "    </tr>\n",
              "    <tr>\n",
              "      <th>1</th>\n",
              "      <td>OP2</td>\n",
              "      <td>Ventas</td>\n",
              "      <td>120</td>\n",
              "      <td>140.0</td>\n",
              "      <td>NaN</td>\n",
              "      <td>100.0</td>\n",
              "    </tr>\n",
              "    <tr>\n",
              "      <th>2</th>\n",
              "      <td>OP3</td>\n",
              "      <td>Ventas</td>\n",
              "      <td>80</td>\n",
              "      <td>90.0</td>\n",
              "      <td>80.0</td>\n",
              "      <td>80.0</td>\n",
              "    </tr>\n",
              "    <tr>\n",
              "      <th>3</th>\n",
              "      <td>OP5</td>\n",
              "      <td>IT</td>\n",
              "      <td>180</td>\n",
              "      <td>170.0</td>\n",
              "      <td>180.0</td>\n",
              "      <td>180.0</td>\n",
              "    </tr>\n",
              "    <tr>\n",
              "      <th>4</th>\n",
              "      <td>OP6</td>\n",
              "      <td>Marketing</td>\n",
              "      <td>100</td>\n",
              "      <td>NaN</td>\n",
              "      <td>100.0</td>\n",
              "      <td>NaN</td>\n",
              "    </tr>\n",
              "  </tbody>\n",
              "</table>\n",
              "</div>\n",
              "    <div class=\"colab-df-buttons\">\n",
              "\n",
              "  <div class=\"colab-df-container\">\n",
              "    <button class=\"colab-df-convert\" onclick=\"convertToInteractive('df-f808546b-8eec-4a0c-a062-01668f613380')\"\n",
              "            title=\"Convert this dataframe to an interactive table.\"\n",
              "            style=\"display:none;\">\n",
              "\n",
              "  <svg xmlns=\"http://www.w3.org/2000/svg\" height=\"24px\" viewBox=\"0 -960 960 960\">\n",
              "    <path d=\"M120-120v-720h720v720H120Zm60-500h600v-160H180v160Zm220 220h160v-160H400v160Zm0 220h160v-160H400v160ZM180-400h160v-160H180v160Zm440 0h160v-160H620v160ZM180-180h160v-160H180v160Zm440 0h160v-160H620v160Z\"/>\n",
              "  </svg>\n",
              "    </button>\n",
              "\n",
              "  <style>\n",
              "    .colab-df-container {\n",
              "      display:flex;\n",
              "      gap: 12px;\n",
              "    }\n",
              "\n",
              "    .colab-df-convert {\n",
              "      background-color: #E8F0FE;\n",
              "      border: none;\n",
              "      border-radius: 50%;\n",
              "      cursor: pointer;\n",
              "      display: none;\n",
              "      fill: #1967D2;\n",
              "      height: 32px;\n",
              "      padding: 0 0 0 0;\n",
              "      width: 32px;\n",
              "    }\n",
              "\n",
              "    .colab-df-convert:hover {\n",
              "      background-color: #E2EBFA;\n",
              "      box-shadow: 0px 1px 2px rgba(60, 64, 67, 0.3), 0px 1px 3px 1px rgba(60, 64, 67, 0.15);\n",
              "      fill: #174EA6;\n",
              "    }\n",
              "\n",
              "    .colab-df-buttons div {\n",
              "      margin-bottom: 4px;\n",
              "    }\n",
              "\n",
              "    [theme=dark] .colab-df-convert {\n",
              "      background-color: #3B4455;\n",
              "      fill: #D2E3FC;\n",
              "    }\n",
              "\n",
              "    [theme=dark] .colab-df-convert:hover {\n",
              "      background-color: #434B5C;\n",
              "      box-shadow: 0px 1px 3px 1px rgba(0, 0, 0, 0.15);\n",
              "      filter: drop-shadow(0px 1px 2px rgba(0, 0, 0, 0.3));\n",
              "      fill: #FFFFFF;\n",
              "    }\n",
              "  </style>\n",
              "\n",
              "    <script>\n",
              "      const buttonEl =\n",
              "        document.querySelector('#df-f808546b-8eec-4a0c-a062-01668f613380 button.colab-df-convert');\n",
              "      buttonEl.style.display =\n",
              "        google.colab.kernel.accessAllowed ? 'block' : 'none';\n",
              "\n",
              "      async function convertToInteractive(key) {\n",
              "        const element = document.querySelector('#df-f808546b-8eec-4a0c-a062-01668f613380');\n",
              "        const dataTable =\n",
              "          await google.colab.kernel.invokeFunction('convertToInteractive',\n",
              "                                                    [key], {});\n",
              "        if (!dataTable) return;\n",
              "\n",
              "        const docLinkHtml = 'Like what you see? Visit the ' +\n",
              "          '<a target=\"_blank\" href=https://colab.research.google.com/notebooks/data_table.ipynb>data table notebook</a>'\n",
              "          + ' to learn more about interactive tables.';\n",
              "        element.innerHTML = '';\n",
              "        dataTable['output_type'] = 'display_data';\n",
              "        await google.colab.output.renderOutput(dataTable, element);\n",
              "        const docLink = document.createElement('div');\n",
              "        docLink.innerHTML = docLinkHtml;\n",
              "        element.appendChild(docLink);\n",
              "      }\n",
              "    </script>\n",
              "  </div>\n",
              "\n",
              "\n",
              "<div id=\"df-fbd713a2-618a-429c-acf3-037f51b8222f\">\n",
              "  <button class=\"colab-df-quickchart\" onclick=\"quickchart('df-fbd713a2-618a-429c-acf3-037f51b8222f')\"\n",
              "            title=\"Suggest charts\"\n",
              "            style=\"display:none;\">\n",
              "\n",
              "<svg xmlns=\"http://www.w3.org/2000/svg\" height=\"24px\"viewBox=\"0 0 24 24\"\n",
              "     width=\"24px\">\n",
              "    <g>\n",
              "        <path d=\"M19 3H5c-1.1 0-2 .9-2 2v14c0 1.1.9 2 2 2h14c1.1 0 2-.9 2-2V5c0-1.1-.9-2-2-2zM9 17H7v-7h2v7zm4 0h-2V7h2v10zm4 0h-2v-4h2v4z\"/>\n",
              "    </g>\n",
              "</svg>\n",
              "  </button>\n",
              "\n",
              "<style>\n",
              "  .colab-df-quickchart {\n",
              "      --bg-color: #E8F0FE;\n",
              "      --fill-color: #1967D2;\n",
              "      --hover-bg-color: #E2EBFA;\n",
              "      --hover-fill-color: #174EA6;\n",
              "      --disabled-fill-color: #AAA;\n",
              "      --disabled-bg-color: #DDD;\n",
              "  }\n",
              "\n",
              "  [theme=dark] .colab-df-quickchart {\n",
              "      --bg-color: #3B4455;\n",
              "      --fill-color: #D2E3FC;\n",
              "      --hover-bg-color: #434B5C;\n",
              "      --hover-fill-color: #FFFFFF;\n",
              "      --disabled-bg-color: #3B4455;\n",
              "      --disabled-fill-color: #666;\n",
              "  }\n",
              "\n",
              "  .colab-df-quickchart {\n",
              "    background-color: var(--bg-color);\n",
              "    border: none;\n",
              "    border-radius: 50%;\n",
              "    cursor: pointer;\n",
              "    display: none;\n",
              "    fill: var(--fill-color);\n",
              "    height: 32px;\n",
              "    padding: 0;\n",
              "    width: 32px;\n",
              "  }\n",
              "\n",
              "  .colab-df-quickchart:hover {\n",
              "    background-color: var(--hover-bg-color);\n",
              "    box-shadow: 0 1px 2px rgba(60, 64, 67, 0.3), 0 1px 3px 1px rgba(60, 64, 67, 0.15);\n",
              "    fill: var(--button-hover-fill-color);\n",
              "  }\n",
              "\n",
              "  .colab-df-quickchart-complete:disabled,\n",
              "  .colab-df-quickchart-complete:disabled:hover {\n",
              "    background-color: var(--disabled-bg-color);\n",
              "    fill: var(--disabled-fill-color);\n",
              "    box-shadow: none;\n",
              "  }\n",
              "\n",
              "  .colab-df-spinner {\n",
              "    border: 2px solid var(--fill-color);\n",
              "    border-color: transparent;\n",
              "    border-bottom-color: var(--fill-color);\n",
              "    animation:\n",
              "      spin 1s steps(1) infinite;\n",
              "  }\n",
              "\n",
              "  @keyframes spin {\n",
              "    0% {\n",
              "      border-color: transparent;\n",
              "      border-bottom-color: var(--fill-color);\n",
              "      border-left-color: var(--fill-color);\n",
              "    }\n",
              "    20% {\n",
              "      border-color: transparent;\n",
              "      border-left-color: var(--fill-color);\n",
              "      border-top-color: var(--fill-color);\n",
              "    }\n",
              "    30% {\n",
              "      border-color: transparent;\n",
              "      border-left-color: var(--fill-color);\n",
              "      border-top-color: var(--fill-color);\n",
              "      border-right-color: var(--fill-color);\n",
              "    }\n",
              "    40% {\n",
              "      border-color: transparent;\n",
              "      border-right-color: var(--fill-color);\n",
              "      border-top-color: var(--fill-color);\n",
              "    }\n",
              "    60% {\n",
              "      border-color: transparent;\n",
              "      border-right-color: var(--fill-color);\n",
              "    }\n",
              "    80% {\n",
              "      border-color: transparent;\n",
              "      border-right-color: var(--fill-color);\n",
              "      border-bottom-color: var(--fill-color);\n",
              "    }\n",
              "    90% {\n",
              "      border-color: transparent;\n",
              "      border-bottom-color: var(--fill-color);\n",
              "    }\n",
              "  }\n",
              "</style>\n",
              "\n",
              "  <script>\n",
              "    async function quickchart(key) {\n",
              "      const quickchartButtonEl =\n",
              "        document.querySelector('#' + key + ' button');\n",
              "      quickchartButtonEl.disabled = true;  // To prevent multiple clicks.\n",
              "      quickchartButtonEl.classList.add('colab-df-spinner');\n",
              "      try {\n",
              "        const charts = await google.colab.kernel.invokeFunction(\n",
              "            'suggestCharts', [key], {});\n",
              "      } catch (error) {\n",
              "        console.error('Error during call to suggestCharts:', error);\n",
              "      }\n",
              "      quickchartButtonEl.classList.remove('colab-df-spinner');\n",
              "      quickchartButtonEl.classList.add('colab-df-quickchart-complete');\n",
              "    }\n",
              "    (() => {\n",
              "      let quickchartButtonEl =\n",
              "        document.querySelector('#df-fbd713a2-618a-429c-acf3-037f51b8222f button');\n",
              "      quickchartButtonEl.style.display =\n",
              "        google.colab.kernel.accessAllowed ? 'block' : 'none';\n",
              "    })();\n",
              "  </script>\n",
              "</div>\n",
              "\n",
              "    </div>\n",
              "  </div>\n"
            ],
            "application/vnd.google.colaboratory.intrinsic+json": {
              "type": "dataframe",
              "variable_name": "df",
              "summary": "{\n  \"name\": \"df\",\n  \"rows\": 14,\n  \"fields\": [\n    {\n      \"column\": \"Id\",\n      \"properties\": {\n        \"dtype\": \"string\",\n        \"num_unique_values\": 14,\n        \"samples\": [\n          \"OP11\",\n          \"OP13\",\n          \"OP1\"\n        ],\n        \"semantic_type\": \"\",\n        \"description\": \"\"\n      }\n    },\n    {\n      \"column\": \"Departamento\",\n      \"properties\": {\n        \"dtype\": \"category\",\n        \"num_unique_values\": 4,\n        \"samples\": [\n          \"Ventas\",\n          \"Marketing\",\n          \"Proveedores\"\n        ],\n        \"semantic_type\": \"\",\n        \"description\": \"\"\n      }\n    },\n    {\n      \"column\": \"Enero\",\n      \"properties\": {\n        \"dtype\": \"number\",\n        \"std\": 36,\n        \"min\": 80,\n        \"max\": 180,\n        \"num_unique_values\": 9,\n        \"samples\": [\n          170,\n          120,\n          150\n        ],\n        \"semantic_type\": \"\",\n        \"description\": \"\"\n      }\n    },\n    {\n      \"column\": \"Febrero\",\n      \"properties\": {\n        \"dtype\": \"number\",\n        \"std\": 32.6205849748677,\n        \"min\": 80.0,\n        \"max\": 170.0,\n        \"num_unique_values\": 9,\n        \"samples\": [\n          150.0,\n          140.0,\n          110.0\n        ],\n        \"semantic_type\": \"\",\n        \"description\": \"\"\n      }\n    },\n    {\n      \"column\": \"Marzo\",\n      \"properties\": {\n        \"dtype\": \"number\",\n        \"std\": 34.04371247344154,\n        \"min\": 80.0,\n        \"max\": 180.0,\n        \"num_unique_values\": 9,\n        \"samples\": [\n          150.0,\n          80.0,\n          110.0\n        ],\n        \"semantic_type\": \"\",\n        \"description\": \"\"\n      }\n    },\n    {\n      \"column\": \"Abril\",\n      \"properties\": {\n        \"dtype\": \"number\",\n        \"std\": 39.27222545651942,\n        \"min\": 80.0,\n        \"max\": 180.0,\n        \"num_unique_values\": 8,\n        \"samples\": [\n          100.0,\n          150.0,\n          180.0\n        ],\n        \"semantic_type\": \"\",\n        \"description\": \"\"\n      }\n    }\n  ]\n}"
            }
          },
          "metadata": {},
          "execution_count": 8
        }
      ],
      "source": [
        "#Carga de los datos en un df\n",
        "df = pd.read_csv('/content/drive/MyDrive/horas-trabajo.csv', sep=';')\n",
        "#Ver lo 5 primeros registros para tener una idea del df\n",
        "df.head()"
      ]
    },
    {
      "cell_type": "code",
      "source": [
        "#Para ver el tipo de datos que tenemos\n",
        "df.info()"
      ],
      "metadata": {
        "colab": {
          "base_uri": "https://localhost:8080/"
        },
        "id": "IgTr-M5YLgzO",
        "outputId": "cbfb21f3-d4c8-4b0e-f200-1d33d0890e8c"
      },
      "execution_count": null,
      "outputs": [
        {
          "output_type": "stream",
          "name": "stdout",
          "text": [
            "<class 'pandas.core.frame.DataFrame'>\n",
            "RangeIndex: 14 entries, 0 to 13\n",
            "Data columns (total 6 columns):\n",
            " #   Column        Non-Null Count  Dtype  \n",
            "---  ------        --------------  -----  \n",
            " 0   Id            14 non-null     object \n",
            " 1   Departamento  14 non-null     object \n",
            " 2   Enero         14 non-null     int64  \n",
            " 3   Febrero       13 non-null     float64\n",
            " 4   Marzo         13 non-null     float64\n",
            " 5   Abril         13 non-null     float64\n",
            "dtypes: float64(3), int64(1), object(2)\n",
            "memory usage: 804.0+ bytes\n"
          ]
        }
      ]
    },
    {
      "cell_type": "code",
      "source": [
        "#2 Horas trabajadas por mes\n",
        "total_horas_por_mes = df[['Enero', 'Febrero', 'Marzo', 'Abril']].sum();\n",
        "print(\"Las horas trabajadas en el mes de Enero fueron\", total_horas_por_mes.Enero)\n",
        "print(\"Las horas trabajadas en el mes de Febrero fueron\", total_horas_por_mes.Febrero)\n",
        "print(\"Las horas trabajadas en el mes de Marzo fueron\", total_horas_por_mes.Marzo)\n",
        "print(\"Las horas trabajadas en el mes de Abril fueron\", total_horas_por_mes.Abril)"
      ],
      "metadata": {
        "colab": {
          "base_uri": "https://localhost:8080/"
        },
        "id": "8Ujb8yVQLhvt",
        "outputId": "8f9f9ac4-1fa0-46a7-a022-fc955ec95016"
      },
      "execution_count": null,
      "outputs": [
        {
          "output_type": "stream",
          "name": "stdout",
          "text": [
            "Las horas trabajadas en el mes de Enero fueron 1870.0\n",
            "Las horas trabajadas en el mes de Febrero fueron 1670.0\n",
            "Las horas trabajadas en el mes de Marzo fueron 1740.0\n",
            "Las horas trabajadas en el mes de Abril fueron 1770.0\n"
          ]
        }
      ]
    },
    {
      "cell_type": "code",
      "source": [
        "#3 Operarios por departamento\n",
        "operarios_por_departamento = df.groupby('Departamento')['Departamento'].count()\n",
        "print(operarios_por_departamento)"
      ],
      "metadata": {
        "colab": {
          "base_uri": "https://localhost:8080/"
        },
        "id": "xq41Z6ATM0bA",
        "outputId": "3ea5d4f7-fca2-4695-82d6-01eb299dee9c"
      },
      "execution_count": null,
      "outputs": [
        {
          "output_type": "stream",
          "name": "stdout",
          "text": [
            "Departamento\n",
            "IT             3\n",
            "Marketing      3\n",
            "Proveedores    3\n",
            "Ventas         5\n",
            "Name: Departamento, dtype: int64\n"
          ]
        }
      ]
    },
    {
      "cell_type": "code",
      "source": [
        "#4 Empleados que trabajaron todos los meses\n",
        "empleados_todos_meses = df[(df['Enero'] > 0) & (df['Febrero'] > 0) & (df['Marzo'] > 0) & (df['Abril'] > 0)]\n",
        "print(\"Empleados que trabajaron al menos una hora todos los meses y su departamento\")\n",
        "print(empleados_todos_meses[['Id', 'Departamento']])"
      ],
      "metadata": {
        "colab": {
          "base_uri": "https://localhost:8080/"
        },
        "id": "R2sis_3aNh_g",
        "outputId": "e1e9dbbd-2e39-4a21-f036-c22693e57e90"
      },
      "execution_count": null,
      "outputs": [
        {
          "output_type": "stream",
          "name": "stdout",
          "text": [
            "Empleados que trabajaron al menos una hora todos los meses y su departamento\n",
            "      Id Departamento\n",
            "0    OP1  Proveedores\n",
            "2    OP3       Ventas\n",
            "3    OP5           IT\n",
            "5    OP7       Ventas\n",
            "6    OP8  Proveedores\n",
            "7    OP9           IT\n",
            "8   OP10       Ventas\n",
            "9   OP11    Marketing\n",
            "10  OP12           IT\n",
            "11  OP13       Ventas\n",
            "12  OP14  Proveedores\n",
            "13  OP15    Marketing\n"
          ]
        }
      ]
    },
    {
      "cell_type": "code",
      "source": [
        "#5 Convertir el DF a formato largo\n",
        "df_largo = pd.melt(\n",
        "    df,\n",
        "    id_vars=['Id', 'Departamento'],\n",
        "    value_vars=['Enero', 'Febrero', 'Marzo', 'Abril'],\n",
        "    var_name='Mes',\n",
        "    value_name='Horas')\n",
        "print(df_largo)"
      ],
      "metadata": {
        "colab": {
          "base_uri": "https://localhost:8080/"
        },
        "id": "D010tYM1O496",
        "outputId": "8846882e-aa8f-4c56-e317-edbe52b9c805"
      },
      "execution_count": null,
      "outputs": [
        {
          "output_type": "stream",
          "name": "stdout",
          "text": [
            "      Id Departamento      Mes  Horas\n",
            "0    OP1  Proveedores    Enero  180.0\n",
            "1    OP2       Ventas    Enero  120.0\n",
            "2    OP3       Ventas    Enero   80.0\n",
            "3    OP5           IT    Enero  180.0\n",
            "4    OP6    Marketing    Enero  100.0\n",
            "5    OP7       Ventas    Enero  160.0\n",
            "6    OP8  Proveedores    Enero  100.0\n",
            "7    OP9           IT    Enero   80.0\n",
            "8   OP10       Ventas    Enero  180.0\n",
            "9   OP11    Marketing    Enero  120.0\n",
            "10  OP12           IT    Enero  150.0\n",
            "11  OP13       Ventas    Enero  140.0\n",
            "12  OP14  Proveedores    Enero  170.0\n",
            "13  OP15    Marketing    Enero  110.0\n",
            "14   OP1  Proveedores  Febrero  160.0\n",
            "15   OP2       Ventas  Febrero  140.0\n",
            "16   OP3       Ventas  Febrero   90.0\n",
            "17   OP5           IT  Febrero  170.0\n",
            "18   OP6    Marketing  Febrero    NaN\n",
            "19   OP7       Ventas  Febrero  160.0\n",
            "20   OP8  Proveedores  Febrero   80.0\n",
            "21   OP9           IT  Febrero   80.0\n",
            "22  OP10       Ventas  Febrero  160.0\n",
            "23  OP11    Marketing  Febrero  110.0\n",
            "24  OP12           IT  Febrero  140.0\n",
            "25  OP13       Ventas  Febrero  130.0\n",
            "26  OP14  Proveedores  Febrero  150.0\n",
            "27  OP15    Marketing  Febrero  100.0\n",
            "28   OP1  Proveedores    Marzo  140.0\n",
            "29   OP2       Ventas    Marzo    NaN\n",
            "30   OP3       Ventas    Marzo   80.0\n",
            "31   OP5           IT    Marzo  180.0\n",
            "32   OP6    Marketing    Marzo  100.0\n",
            "33   OP7       Ventas    Marzo  160.0\n",
            "34   OP8  Proveedores    Marzo  110.0\n",
            "35   OP9           IT    Marzo   80.0\n",
            "36  OP10       Ventas    Marzo  180.0\n",
            "37  OP11    Marketing    Marzo  130.0\n",
            "38  OP12           IT    Marzo  150.0\n",
            "39  OP13       Ventas    Marzo  150.0\n",
            "40  OP14  Proveedores    Marzo  160.0\n",
            "41  OP15    Marketing    Marzo  120.0\n",
            "42   OP1  Proveedores    Abril  180.0\n",
            "43   OP2       Ventas    Abril  100.0\n",
            "44   OP3       Ventas    Abril   80.0\n",
            "45   OP5           IT    Abril  180.0\n",
            "46   OP6    Marketing    Abril    NaN\n",
            "47   OP7       Ventas    Abril  160.0\n",
            "48   OP8  Proveedores    Abril   80.0\n",
            "49   OP9           IT    Abril   80.0\n",
            "50  OP10       Ventas    Abril  180.0\n",
            "51  OP11    Marketing    Abril  140.0\n",
            "52  OP12           IT    Abril  150.0\n",
            "53  OP13       Ventas    Abril  140.0\n",
            "54  OP14  Proveedores    Abril  170.0\n",
            "55  OP15    Marketing    Abril  130.0\n"
          ]
        }
      ]
    },
    {
      "cell_type": "code",
      "source": [
        "#6 Promedio de horas trabajadas por departamento\n",
        "df['TotalHoras'] = df[['Enero', 'Febrero', 'Marzo', 'Abril']].sum(axis=1)\n",
        "promedio_horas_por_departamento = df.groupby('Departamento')['TotalHoras'].mean()\n",
        "print(\"Horas promedio trabajadas por departamento en los 4 meses\")\n",
        "print(promedio_horas_por_departamento, end='\\n\\n')\n",
        "print(\"Horas promedio trabajadas por departamento en cada mes\")\n",
        "promedio_horas_por_departamento_mes = df.groupby('Departamento')[['Enero', 'Febrero', 'Marzo', 'Abril']].mean()\n",
        "print(promedio_horas_por_departamento_mes)"
      ],
      "metadata": {
        "colab": {
          "base_uri": "https://localhost:8080/"
        },
        "id": "LFDxHQrATQ04",
        "outputId": "6bc2af45-2ae1-4c4a-a20b-b2cc86e57d92"
      },
      "execution_count": null,
      "outputs": [
        {
          "output_type": "stream",
          "name": "stdout",
          "text": [
            "Horas promedio trabajadas por departamento en los 4 meses\n",
            "Departamento\n",
            "IT             540.000000\n",
            "Marketing      386.666667\n",
            "Proveedores    560.000000\n",
            "Ventas         518.000000\n",
            "Name: TotalHoras, dtype: float64\n",
            "\n",
            "Horas promedio trabajadas por departamento en cada mes\n",
            "                   Enero  Febrero       Marzo       Abril\n",
            "Departamento                                             \n",
            "IT            136.666667    130.0  136.666667  136.666667\n",
            "Marketing     110.000000    105.0  116.666667  135.000000\n",
            "Proveedores   150.000000    130.0  136.666667  143.333333\n",
            "Ventas        136.000000    136.0  142.500000  132.000000\n"
          ]
        }
      ]
    },
    {
      "cell_type": "code",
      "source": [
        "#7 Total horas trabajadas por operario\n",
        "print(df[['Id', 'TotalHoras']].sort_values(by='TotalHoras', ascending=False))"
      ],
      "metadata": {
        "colab": {
          "base_uri": "https://localhost:8080/"
        },
        "id": "uL1UUDm6U95n",
        "outputId": "a5282c21-72a8-42f8-c8ed-66b17d30de33"
      },
      "execution_count": null,
      "outputs": [
        {
          "output_type": "stream",
          "name": "stdout",
          "text": [
            "      Id  TotalHoras\n",
            "3    OP5       710.0\n",
            "8   OP10       700.0\n",
            "0    OP1       660.0\n",
            "12  OP14       650.0\n",
            "5    OP7       640.0\n",
            "10  OP12       590.0\n",
            "11  OP13       560.0\n",
            "9   OP11       500.0\n",
            "13  OP15       460.0\n",
            "6    OP8       370.0\n",
            "1    OP2       360.0\n",
            "2    OP3       330.0\n",
            "7    OP9       320.0\n",
            "4    OP6       200.0\n"
          ]
        }
      ]
    },
    {
      "cell_type": "code",
      "source": [
        "#8 Salarios ordenados de mayor a menor\n",
        "tarifa_hora = 32\n",
        "df['Salario'] = df['TotalHoras'] * tarifa_hora\n",
        "print(df[['Id', 'TotalHoras', 'Salario']].sort_values(by='Salario', ascending=False))"
      ],
      "metadata": {
        "colab": {
          "base_uri": "https://localhost:8080/"
        },
        "id": "_2mP37M4V9Sa",
        "outputId": "fb5ffa2a-8f56-40d0-b4ba-b4897d7458ba"
      },
      "execution_count": null,
      "outputs": [
        {
          "output_type": "stream",
          "name": "stdout",
          "text": [
            "      Id  TotalHoras  Salario\n",
            "3    OP5       710.0  22720.0\n",
            "8   OP10       700.0  22400.0\n",
            "0    OP1       660.0  21120.0\n",
            "12  OP14       650.0  20800.0\n",
            "5    OP7       640.0  20480.0\n",
            "10  OP12       590.0  18880.0\n",
            "11  OP13       560.0  17920.0\n",
            "9   OP11       500.0  16000.0\n",
            "13  OP15       460.0  14720.0\n",
            "6    OP8       370.0  11840.0\n",
            "1    OP2       360.0  11520.0\n",
            "2    OP3       330.0  10560.0\n",
            "7    OP9       320.0  10240.0\n",
            "4    OP6       200.0   6400.0\n"
          ]
        }
      ]
    },
    {
      "cell_type": "markdown",
      "source": [
        "SOLID\n",
        "\n",
        "S -> Responsabilidad unica -> Una clase deberia tener una y solo una razon para cambiar, esto indica que cada modulo o calse debe encargarse de cumplir una sola responsabilidad dentro del sistema.\n",
        "\n",
        "O -> Abierto o cerrado -> Las entidades de software (clases, modulos, funciones, etc.) deben estar abiertas para su extension, pero cerradas para su modificacion\", este implica que debemos poder extender el comportamiento de nuestras clases sin modificar su codigo fuente existente, por ejemplo, usando la herencia o la composicion.\n",
        "\n",
        "L -> Sustitucion -> Los objetos de una superclase deben poder ser sustituidos por objetos de sus subclases sin romper la aplicacion, por ejemplo si B es una subclase de A, entonces debe ser posible usar objetos de tipo B en lugar de objetos de tipo A sin que el sistema falle o se comporte de forma inesperada\n",
        "\n",
        "I -> Segregacion de la interfaz -> Los clientes no deberian estar forzados a depender de interfaces que no utilizan, es preferible tener multiples interfaces especificas para cada proporcito, que una interfaz \"grande o saturada\" que incluya metodos que algunas implementaciones nunca usaran.\n",
        "\n",
        "D -> Inversion de dependencias -> Los modulos de alto nivel no deberian depender de modulos de bajo nivel, ambos deben depender de abstracciones, las abstracciones no deberian depender de detalles, sino que los detalles deben depender de las abstracciones\n",
        "\n",
        "IMPORTANCIAS DE SOLID EN CIENCIA DE DATOS\n",
        "Aunque los principios SOLID surgieron principalmente en el desarrollo de software orientado a objetos, tambien son aplicables al desarrollo de soluciones de ciencia de datos, especialmente cuando se crean pipelines de procesamiento, aplicaciones de machine learning en producciones o se desarrolla software que manipula grandes volumenes de datos\n",
        "1. **Mantenibilidad** -> Al organizar las clases y responsabilidades de forma clara, es mas facil para el equipo modificar y extender las funcionalidades de la plataforma de datos.\n",
        "2. **Escalabilidad** -> Aplicar SOLID fomenta la extensibilidad de componentes (por ejemplo, agregar un nuevo modelo de ML o una nueva capa de almacenamiento de datos sin romper la estructura existente).\n",
        "3. **Testabilidad** -> Al seguir principicos como DIP \"inversion\", se facilita la creacion de pruebas unitarias y de integracion, sustituyendo dependencias por mocks o stubs.\n",
        "4. **Reusabilidad** -> Al dividir las funcionalidades en \"pequeñas piezas\" con responsabilidades unicas y diseñar interfaces claras, se pueden reutilizar facilmente componenetes en distintos proyectos."
      ],
      "metadata": {
        "id": "jzJcddCiX07z"
      }
    },
    {
      "cell_type": "code",
      "source": [
        "from abc import ABC, abstractmethod"
      ],
      "metadata": {
        "id": "SVQuuvTihS6X"
      },
      "execution_count": null,
      "outputs": []
    },
    {
      "cell_type": "code",
      "source": [
        "#Definicion de interfaces concepto de inversion de dependencias\n",
        "\n",
        "class IDataLoader(ABC):\n",
        "    @abstractmethod\n",
        "    def load_data(self) -> pd.DataFrame:\n",
        "        pass\n",
        "\n",
        "class IDataProcessor(ABC):\n",
        "    @abstractmethod\n",
        "    def process_data(self, df: pd.DataFrame) -> pd.DataFrame:\n",
        "        pass"
      ],
      "metadata": {
        "id": "_dMkwrjyhWjn"
      },
      "execution_count": null,
      "outputs": []
    },
    {
      "cell_type": "code",
      "source": [
        "#Implementacion de las interfaces\n",
        "\n",
        "class CSVDataLoader(IDataLoader):\n",
        "    def __init__(self, file_path: str):\n",
        "        self.file_path = file_path\n",
        "\n",
        "    def load_data(self) -> pd.DataFrame:\n",
        "        return pd.read_csv(self.file_path, sep=';')"
      ],
      "metadata": {
        "id": "haViqxQshpWe"
      },
      "execution_count": null,
      "outputs": []
    },
    {
      "cell_type": "code",
      "source": [
        "#Clase limpiadora\n",
        "class DataCleaner(IDataProcessor):\n",
        "    def process_data(self, df: pd.DataFrame) -> pd.DataFrame:\n",
        "        return df.dropna().drop_duplicates()"
      ],
      "metadata": {
        "id": "SipuU_1CitUE"
      },
      "execution_count": null,
      "outputs": []
    },
    {
      "cell_type": "code",
      "source": [
        "#Clase agrupadora y contadora\n",
        "class DataGrouper(IDataProcessor):\n",
        "    def __init__(self, group_col: str):\n",
        "        self.group_col = group_col\n",
        "\n",
        "    def process_data(self, df: pd.DataFrame) -> pd.DataFrame:\n",
        "        grouped_df = df.groupby(self.group_col).size().reset_index(name=\"Count\")\n",
        "        return grouped_df"
      ],
      "metadata": {
        "id": "oF9Np7rZi1Fv"
      },
      "execution_count": null,
      "outputs": []
    },
    {
      "cell_type": "code",
      "source": [
        "#Clase principalr\n",
        "class DataPipeline:\n",
        "    #Constructor\n",
        "    def __init__(self, data_loader: IDataLoader, processors: list[IDataProcessor]):\n",
        "        self.data_loader = data_loader\n",
        "        self.processors = processors\n",
        "    #Procedimientos\n",
        "    def run_pipeline(self) -> pd.DataFrame:\n",
        "        # Cargar datos usando la abstracción de IDataLoader\n",
        "        df = self.data_loader.load_data()\n",
        "\n",
        "        # Aplicar secuencialmente cada proceso de la lista\n",
        "        for processor in self.processors:\n",
        "            df = processor.process_data(df)\n",
        "\n",
        "        # 3. Retornar el resultado final\n",
        "        return df"
      ],
      "metadata": {
        "id": "X3D8rq1hi9mz"
      },
      "execution_count": null,
      "outputs": []
    },
    {
      "cell_type": "code",
      "source": [
        "#Ejecucion\n",
        "if __name__ == \"__main__\":\n",
        "    # Carga\n",
        "    csv_loader = CSVDataLoader('/content/drive/MyDrive/horas-trabajo.csv')\n",
        "\n",
        "    # Clases \"procesadoras\"\n",
        "    cleaner = DataCleaner()\n",
        "    grouper = DataGrouper(\"Departamento\")\n",
        "\n",
        "    # Uso del pipeline\n",
        "    pipeline = DataPipeline(\n",
        "        data_loader=csv_loader,\n",
        "        processors=[cleaner, grouper]\n",
        "    )\n",
        "\n",
        "    # Ejecucion\n",
        "    result_df = pipeline.run_pipeline()\n",
        "    print(\"Resultado final:\")\n",
        "    print(result_df)"
      ],
      "metadata": {
        "colab": {
          "base_uri": "https://localhost:8080/"
        },
        "id": "EPvR7iDKiA4x",
        "outputId": "275fefe6-d6e1-4ac6-9e70-81052f680b85"
      },
      "execution_count": null,
      "outputs": [
        {
          "output_type": "stream",
          "name": "stdout",
          "text": [
            "Resultado final:\n",
            "  Departamento  Count\n",
            "0           IT      3\n",
            "1    Marketing      2\n",
            "2  Proveedores      3\n",
            "3       Ventas      4\n"
          ]
        }
      ]
    }
  ]
}